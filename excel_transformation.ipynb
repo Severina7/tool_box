{
 "cells": [
  {
   "cell_type": "code",
   "execution_count": 2,
   "id": "8b203c2b",
   "metadata": {},
   "outputs": [],
   "source": [
    "import pandas as pd\n",
    "import openpyxl as pxl\n",
    "import matplotlib.pyplot as plt "
   ]
  },
  {
   "cell_type": "code",
   "execution_count": 3,
   "id": "862b9c9a",
   "metadata": {},
   "outputs": [],
   "source": [
    "path = '/Users/arsen/codeup_data_science/tool_box/'"
   ]
  },
  {
   "cell_type": "markdown",
   "id": "805b2af4",
   "metadata": {},
   "source": [
    "### With openpyxl"
   ]
  },
  {
   "cell_type": "code",
   "execution_count": 4,
   "id": "79992c86",
   "metadata": {},
   "outputs": [
    {
     "name": "stderr",
     "output_type": "stream",
     "text": [
      "/opt/homebrew/anaconda3/lib/python3.9/site-packages/openpyxl/worksheet/_reader.py:312: UserWarning: Data Validation extension is not supported and will be removed\n",
      "  warn(msg)\n"
     ]
    }
   ],
   "source": [
    "xl_file_pxl = pxl.load_workbook(f'{path}Cambium21_LRMER_states.xlsx')"
   ]
  },
  {
   "cell_type": "code",
   "execution_count": 5,
   "id": "e83ef147",
   "metadata": {},
   "outputs": [],
   "source": [
    "firstWorksheet = xl_file_pxl.active"
   ]
  },
  {
   "cell_type": "code",
   "execution_count": null,
   "id": "8336629b",
   "metadata": {},
   "outputs": [],
   "source": []
  },
  {
   "cell_type": "markdown",
   "id": "3fd836d3",
   "metadata": {},
   "source": [
    "### With pandas"
   ]
  },
  {
   "cell_type": "code",
   "execution_count": 6,
   "id": "44111955",
   "metadata": {},
   "outputs": [],
   "source": [
    "xl_file = pd.read_excel(f'{path}Cambium21_LRMER_states.xlsx', sheetname=None)"
   ]
  },
  {
   "cell_type": "code",
   "execution_count": 8,
   "id": "071dd2a9",
   "metadata": {},
   "outputs": [],
   "source": [
    "xl_file.to_csv(\"cambiumfile.csv\", index = None, header=True)"
   ]
  },
  {
   "cell_type": "code",
   "execution_count": 9,
   "id": "5c344a06",
   "metadata": {},
   "outputs": [
    {
     "data": {
      "text/html": [
       "<div>\n",
       "<style scoped>\n",
       "    .dataframe tbody tr th:only-of-type {\n",
       "        vertical-align: middle;\n",
       "    }\n",
       "\n",
       "    .dataframe tbody tr th {\n",
       "        vertical-align: top;\n",
       "    }\n",
       "\n",
       "    .dataframe thead th {\n",
       "        text-align: right;\n",
       "    }\n",
       "</style>\n",
       "<table border=\"1\" class=\"dataframe\">\n",
       "  <thead>\n",
       "    <tr style=\"text-align: right;\">\n",
       "      <th></th>\n",
       "      <th>Unnamed: 0</th>\n",
       "      <th>Unnamed: 1</th>\n",
       "    </tr>\n",
       "  </thead>\n",
       "  <tbody>\n",
       "    <tr>\n",
       "      <th>0</th>\n",
       "      <td>NaN</td>\n",
       "      <td>Long-run Marginal Emission Rates for Electricity</td>\n",
       "    </tr>\n",
       "    <tr>\n",
       "      <th>1</th>\n",
       "      <td>NaN</td>\n",
       "      <td>From the 2021 Cambium dataset</td>\n",
       "    </tr>\n",
       "    <tr>\n",
       "      <th>2</th>\n",
       "      <td>NaN</td>\n",
       "      <td>Released January 2022</td>\n",
       "    </tr>\n",
       "    <tr>\n",
       "      <th>3</th>\n",
       "      <td>NaN</td>\n",
       "      <td>NaN</td>\n",
       "    </tr>\n",
       "    <tr>\n",
       "      <th>4</th>\n",
       "      <td>NaN</td>\n",
       "      <td>This workbook contains modeled estimates of lo...</td>\n",
       "    </tr>\n",
       "  </tbody>\n",
       "</table>\n",
       "</div>"
      ],
      "text/plain": [
       "   Unnamed: 0                                         Unnamed: 1\n",
       "0         NaN   Long-run Marginal Emission Rates for Electricity\n",
       "1         NaN                     From the 2021 Cambium dataset \n",
       "2         NaN                              Released January 2022\n",
       "3         NaN                                                NaN\n",
       "4         NaN  This workbook contains modeled estimates of lo..."
      ]
     },
     "execution_count": 9,
     "metadata": {},
     "output_type": "execute_result"
    }
   ],
   "source": [
    "df = pd.read_csv(\"cambiumfile.csv\", )\n",
    "df.head()"
   ]
  },
  {
   "cell_type": "code",
   "execution_count": 10,
   "id": "16edc962",
   "metadata": {},
   "outputs": [
    {
     "data": {
      "text/html": [
       "<div>\n",
       "<style scoped>\n",
       "    .dataframe tbody tr th:only-of-type {\n",
       "        vertical-align: middle;\n",
       "    }\n",
       "\n",
       "    .dataframe tbody tr th {\n",
       "        vertical-align: top;\n",
       "    }\n",
       "\n",
       "    .dataframe thead th {\n",
       "        text-align: right;\n",
       "    }\n",
       "</style>\n",
       "<table border=\"1\" class=\"dataframe\">\n",
       "  <thead>\n",
       "    <tr style=\"text-align: right;\">\n",
       "      <th></th>\n",
       "      <th>Unnamed: 1</th>\n",
       "    </tr>\n",
       "  </thead>\n",
       "  <tbody>\n",
       "    <tr>\n",
       "      <th>0</th>\n",
       "      <td>Long-run Marginal Emission Rates for Electricity</td>\n",
       "    </tr>\n",
       "    <tr>\n",
       "      <th>1</th>\n",
       "      <td>From the 2021 Cambium dataset</td>\n",
       "    </tr>\n",
       "    <tr>\n",
       "      <th>2</th>\n",
       "      <td>Released January 2022</td>\n",
       "    </tr>\n",
       "    <tr>\n",
       "      <th>3</th>\n",
       "      <td>NaN</td>\n",
       "    </tr>\n",
       "    <tr>\n",
       "      <th>4</th>\n",
       "      <td>This workbook contains modeled estimates of lo...</td>\n",
       "    </tr>\n",
       "  </tbody>\n",
       "</table>\n",
       "</div>"
      ],
      "text/plain": [
       "                                          Unnamed: 1\n",
       "0   Long-run Marginal Emission Rates for Electricity\n",
       "1                     From the 2021 Cambium dataset \n",
       "2                              Released January 2022\n",
       "3                                                NaN\n",
       "4  This workbook contains modeled estimates of lo..."
      ]
     },
     "execution_count": 10,
     "metadata": {},
     "output_type": "execute_result"
    }
   ],
   "source": [
    "df.drop(columns=[\"Unnamed: 0\"], inplace=True, errors='ignore')\n",
    "df.head()"
   ]
  },
  {
   "cell_type": "code",
   "execution_count": 11,
   "id": "af930687",
   "metadata": {
    "scrolled": false
   },
   "outputs": [
    {
     "data": {
      "text/html": [
       "<div>\n",
       "<style scoped>\n",
       "    .dataframe tbody tr th:only-of-type {\n",
       "        vertical-align: middle;\n",
       "    }\n",
       "\n",
       "    .dataframe tbody tr th {\n",
       "        vertical-align: top;\n",
       "    }\n",
       "\n",
       "    .dataframe thead th {\n",
       "        text-align: right;\n",
       "    }\n",
       "</style>\n",
       "<table border=\"1\" class=\"dataframe\">\n",
       "  <thead>\n",
       "    <tr style=\"text-align: right;\">\n",
       "      <th></th>\n",
       "      <th>Unnamed: 1</th>\n",
       "    </tr>\n",
       "  </thead>\n",
       "  <tbody>\n",
       "    <tr>\n",
       "      <th>0</th>\n",
       "      <td>Long-run Marginal Emission Rates for Electricity</td>\n",
       "    </tr>\n",
       "    <tr>\n",
       "      <th>1</th>\n",
       "      <td>From the 2021 Cambium dataset</td>\n",
       "    </tr>\n",
       "    <tr>\n",
       "      <th>2</th>\n",
       "      <td>Released January 2022</td>\n",
       "    </tr>\n",
       "    <tr>\n",
       "      <th>3</th>\n",
       "      <td>NaN</td>\n",
       "    </tr>\n",
       "    <tr>\n",
       "      <th>4</th>\n",
       "      <td>This workbook contains modeled estimates of lo...</td>\n",
       "    </tr>\n",
       "    <tr>\n",
       "      <th>5</th>\n",
       "      <td>NaN</td>\n",
       "    </tr>\n",
       "    <tr>\n",
       "      <th>6</th>\n",
       "      <td>This workbook contains data reported at the st...</td>\n",
       "    </tr>\n",
       "    <tr>\n",
       "      <th>7</th>\n",
       "      <td>NaN</td>\n",
       "    </tr>\n",
       "    <tr>\n",
       "      <th>8</th>\n",
       "      <td>Recommended Citation</td>\n",
       "    </tr>\n",
       "    <tr>\n",
       "      <th>9</th>\n",
       "      <td>Gagnon, Pieter; Frazier, Will; Hale, Elaine, C...</td>\n",
       "    </tr>\n",
       "    <tr>\n",
       "      <th>10</th>\n",
       "      <td>NaN</td>\n",
       "    </tr>\n",
       "    <tr>\n",
       "      <th>11</th>\n",
       "      <td>What is a long-run marginal emission rate?</td>\n",
       "    </tr>\n",
       "    <tr>\n",
       "      <th>12</th>\n",
       "      <td>The long-run marginal emission rate is an esti...</td>\n",
       "    </tr>\n",
       "    <tr>\n",
       "      <th>13</th>\n",
       "      <td>NaN</td>\n",
       "    </tr>\n",
       "    <tr>\n",
       "      <th>14</th>\n",
       "      <td>How was this data produced?</td>\n",
       "    </tr>\n",
       "  </tbody>\n",
       "</table>\n",
       "</div>"
      ],
      "text/plain": [
       "                                           Unnamed: 1\n",
       "0    Long-run Marginal Emission Rates for Electricity\n",
       "1                      From the 2021 Cambium dataset \n",
       "2                               Released January 2022\n",
       "3                                                 NaN\n",
       "4   This workbook contains modeled estimates of lo...\n",
       "5                                                 NaN\n",
       "6   This workbook contains data reported at the st...\n",
       "7                                                 NaN\n",
       "8                                Recommended Citation\n",
       "9   Gagnon, Pieter; Frazier, Will; Hale, Elaine, C...\n",
       "10                                                NaN\n",
       "11         What is a long-run marginal emission rate?\n",
       "12  The long-run marginal emission rate is an esti...\n",
       "13                                                NaN\n",
       "14                        How was this data produced?"
      ]
     },
     "execution_count": 11,
     "metadata": {},
     "output_type": "execute_result"
    }
   ],
   "source": [
    "df.head(15)"
   ]
  },
  {
   "cell_type": "code",
   "execution_count": 12,
   "id": "d5ec3d74",
   "metadata": {},
   "outputs": [
    {
     "data": {
      "text/html": [
       "<div>\n",
       "<style scoped>\n",
       "    .dataframe tbody tr th:only-of-type {\n",
       "        vertical-align: middle;\n",
       "    }\n",
       "\n",
       "    .dataframe tbody tr th {\n",
       "        vertical-align: top;\n",
       "    }\n",
       "\n",
       "    .dataframe thead th {\n",
       "        text-align: right;\n",
       "    }\n",
       "</style>\n",
       "<table border=\"1\" class=\"dataframe\">\n",
       "  <thead>\n",
       "    <tr style=\"text-align: right;\">\n",
       "      <th></th>\n",
       "      <th>words</th>\n",
       "    </tr>\n",
       "  </thead>\n",
       "  <tbody>\n",
       "    <tr>\n",
       "      <th>0</th>\n",
       "      <td>Long-run Marginal Emission Rates for Electricity</td>\n",
       "    </tr>\n",
       "    <tr>\n",
       "      <th>1</th>\n",
       "      <td>From the 2021 Cambium dataset</td>\n",
       "    </tr>\n",
       "    <tr>\n",
       "      <th>2</th>\n",
       "      <td>Released January 2022</td>\n",
       "    </tr>\n",
       "    <tr>\n",
       "      <th>3</th>\n",
       "      <td>NaN</td>\n",
       "    </tr>\n",
       "    <tr>\n",
       "      <th>4</th>\n",
       "      <td>This workbook contains modeled estimates of lo...</td>\n",
       "    </tr>\n",
       "  </tbody>\n",
       "</table>\n",
       "</div>"
      ],
      "text/plain": [
       "                                               words\n",
       "0   Long-run Marginal Emission Rates for Electricity\n",
       "1                     From the 2021 Cambium dataset \n",
       "2                              Released January 2022\n",
       "3                                                NaN\n",
       "4  This workbook contains modeled estimates of lo..."
      ]
     },
     "execution_count": 12,
     "metadata": {},
     "output_type": "execute_result"
    }
   ],
   "source": [
    "df.rename(columns={'Unnamed: 1': 'words'}, inplace=True)\n",
    "df.head()"
   ]
  },
  {
   "cell_type": "code",
   "execution_count": null,
   "id": "dd9c62a5",
   "metadata": {},
   "outputs": [],
   "source": []
  },
  {
   "cell_type": "code",
   "execution_count": 14,
   "id": "f95c8388",
   "metadata": {},
   "outputs": [
    {
     "data": {
      "text/plain": [
       "'Long-run Marginal Emission Rates for Electricity'"
      ]
     },
     "execution_count": 14,
     "metadata": {},
     "output_type": "execute_result"
    }
   ],
   "source": [
    "df['words'][0]"
   ]
  },
  {
   "cell_type": "markdown",
   "id": "11078a9c",
   "metadata": {},
   "source": [
    "#### Next steps\n",
    "- It seems like 'xl_file = pd.read_excel(f'{path}Cambium21_LRMER_states.xlsx', sheetname=None)' grabs all the file.\n",
    "- However, when I write the excel file to csv with 'xl_file.to_csv(\"cambiumfile.csv\", index = None, header=True)', only the first page is rewritten.\n",
    "- I need to write a loop to grab each sheet individually and put them in a list or something\n",
    "- Each page is gonna behave differently because when I looked at the data, some contained NL (), some numeric data, some both, and the tables set-up is different from a sheet to another"
   ]
  },
  {
   "cell_type": "code",
   "execution_count": 6,
   "id": "1c58d646",
   "metadata": {},
   "outputs": [],
   "source": [
    "xl_file = pd.read_excel(f'{path}Cambium21_LRMER_states.xlsx', sheetname=None)"
   ]
  },
  {
   "cell_type": "code",
   "execution_count": null,
   "id": "e793dee7",
   "metadata": {},
   "outputs": [],
   "source": []
  },
  {
   "cell_type": "code",
   "execution_count": null,
   "id": "bba77b41",
   "metadata": {},
   "outputs": [],
   "source": [
    "df = pd.read_excel(excel_file, sheetname=None)\n",
    "xlsx = pd.ExcelFile(excel_file)\n",
    "PC_sheets = []\n",
    "for sheet in xlsx.sheet_names:\n",
    "    PC_sheets.append(xlsx.parse(sheet))\n",
    "    PC = pd.concat(PC_sheets)"
   ]
  }
 ],
 "metadata": {
  "kernelspec": {
   "display_name": "Python 3 (ipykernel)",
   "language": "python",
   "name": "python3"
  },
  "language_info": {
   "codemirror_mode": {
    "name": "ipython",
    "version": 3
   },
   "file_extension": ".py",
   "mimetype": "text/x-python",
   "name": "python",
   "nbconvert_exporter": "python",
   "pygments_lexer": "ipython3",
   "version": "3.9.7"
  }
 },
 "nbformat": 4,
 "nbformat_minor": 5
}
