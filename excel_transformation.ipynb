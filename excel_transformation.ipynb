{
 "cells": [
  {
   "cell_type": "code",
   "execution_count": 1,
   "id": "86c91407",
   "metadata": {},
   "outputs": [],
   "source": [
    "import warnings\n",
    "warnings.filterwarnings('ignore')\n",
    "\n",
    "import pandas as pd\n",
    "import openpyxl as pxl\n",
    "import matplotlib.pyplot as plt "
   ]
  },
  {
   "cell_type": "code",
   "execution_count": 2,
   "id": "9eaed2ae",
   "metadata": {},
   "outputs": [],
   "source": [
    "path = '/Users/arsen/codeup_data_science/tool_box/'"
   ]
  },
  {
   "cell_type": "markdown",
   "id": "65b3c049",
   "metadata": {},
   "source": [
    "### With openpyxl"
   ]
  },
  {
   "cell_type": "code",
   "execution_count": 3,
   "id": "dcd46eec",
   "metadata": {},
   "outputs": [],
   "source": [
    "xl_file_pxl = pxl.load_workbook(f'{path}Cambium21_LRMER_states.xlsx')"
   ]
  },
  {
   "cell_type": "code",
   "execution_count": 4,
   "id": "52973377",
   "metadata": {},
   "outputs": [],
   "source": [
    "firstWorksheet = xl_file_pxl.active"
   ]
  },
  {
   "cell_type": "markdown",
   "id": "33d68a34",
   "metadata": {},
   "source": [
    "### With pandas"
   ]
  },
  {
   "cell_type": "code",
   "execution_count": 5,
   "id": "de992395",
   "metadata": {},
   "outputs": [],
   "source": [
    "xl_file = pd.read_excel(f'{path}Cambium21_LRMER_states.xlsx', sheet_name=None)"
   ]
  },
  {
   "cell_type": "code",
   "execution_count": 6,
   "id": "944612ca",
   "metadata": {},
   "outputs": [
    {
     "data": {
      "text/plain": [
       "dict"
      ]
     },
     "execution_count": 6,
     "metadata": {},
     "output_type": "execute_result"
    }
   ],
   "source": [
    "type(xl_file)"
   ]
  },
  {
   "cell_type": "code",
   "execution_count": 8,
   "id": "50a15342",
   "metadata": {},
   "outputs": [
    {
     "data": {
      "text/html": [
       "<div>\n",
       "<style scoped>\n",
       "    .dataframe tbody tr th:only-of-type {\n",
       "        vertical-align: middle;\n",
       "    }\n",
       "\n",
       "    .dataframe tbody tr th {\n",
       "        vertical-align: top;\n",
       "    }\n",
       "\n",
       "    .dataframe thead th {\n",
       "        text-align: right;\n",
       "    }\n",
       "</style>\n",
       "<table border=\"1\" class=\"dataframe\">\n",
       "  <thead>\n",
       "    <tr style=\"text-align: right;\">\n",
       "      <th></th>\n",
       "      <th>Unnamed: 0</th>\n",
       "      <th>Unnamed: 1</th>\n",
       "    </tr>\n",
       "  </thead>\n",
       "  <tbody>\n",
       "    <tr>\n",
       "      <th>0</th>\n",
       "      <td>NaN</td>\n",
       "      <td>Long-run Marginal Emission Rates for Electricity</td>\n",
       "    </tr>\n",
       "    <tr>\n",
       "      <th>1</th>\n",
       "      <td>NaN</td>\n",
       "      <td>From the 2021 Cambium dataset</td>\n",
       "    </tr>\n",
       "    <tr>\n",
       "      <th>2</th>\n",
       "      <td>NaN</td>\n",
       "      <td>Released January 2022</td>\n",
       "    </tr>\n",
       "    <tr>\n",
       "      <th>3</th>\n",
       "      <td>NaN</td>\n",
       "      <td>NaN</td>\n",
       "    </tr>\n",
       "    <tr>\n",
       "      <th>4</th>\n",
       "      <td>NaN</td>\n",
       "      <td>This workbook contains modeled estimates of lo...</td>\n",
       "    </tr>\n",
       "  </tbody>\n",
       "</table>\n",
       "</div>"
      ],
      "text/plain": [
       "   Unnamed: 0                                         Unnamed: 1\n",
       "0         NaN   Long-run Marginal Emission Rates for Electricity\n",
       "1         NaN                     From the 2021 Cambium dataset \n",
       "2         NaN                              Released January 2022\n",
       "3         NaN                                                NaN\n",
       "4         NaN  This workbook contains modeled estimates of lo..."
      ]
     },
     "execution_count": 8,
     "metadata": {},
     "output_type": "execute_result"
    }
   ],
   "source": [
    "df = pd.read_csv(\"cambiumfile.csv\")\n",
    "df.head()"
   ]
  },
  {
   "cell_type": "code",
   "execution_count": 9,
   "id": "c8c4cb50",
   "metadata": {},
   "outputs": [
    {
     "data": {
      "text/html": [
       "<div>\n",
       "<style scoped>\n",
       "    .dataframe tbody tr th:only-of-type {\n",
       "        vertical-align: middle;\n",
       "    }\n",
       "\n",
       "    .dataframe tbody tr th {\n",
       "        vertical-align: top;\n",
       "    }\n",
       "\n",
       "    .dataframe thead th {\n",
       "        text-align: right;\n",
       "    }\n",
       "</style>\n",
       "<table border=\"1\" class=\"dataframe\">\n",
       "  <thead>\n",
       "    <tr style=\"text-align: right;\">\n",
       "      <th></th>\n",
       "      <th>Unnamed: 1</th>\n",
       "    </tr>\n",
       "  </thead>\n",
       "  <tbody>\n",
       "    <tr>\n",
       "      <th>0</th>\n",
       "      <td>Long-run Marginal Emission Rates for Electricity</td>\n",
       "    </tr>\n",
       "    <tr>\n",
       "      <th>1</th>\n",
       "      <td>From the 2021 Cambium dataset</td>\n",
       "    </tr>\n",
       "    <tr>\n",
       "      <th>2</th>\n",
       "      <td>Released January 2022</td>\n",
       "    </tr>\n",
       "    <tr>\n",
       "      <th>3</th>\n",
       "      <td>NaN</td>\n",
       "    </tr>\n",
       "    <tr>\n",
       "      <th>4</th>\n",
       "      <td>This workbook contains modeled estimates of lo...</td>\n",
       "    </tr>\n",
       "  </tbody>\n",
       "</table>\n",
       "</div>"
      ],
      "text/plain": [
       "                                          Unnamed: 1\n",
       "0   Long-run Marginal Emission Rates for Electricity\n",
       "1                     From the 2021 Cambium dataset \n",
       "2                              Released January 2022\n",
       "3                                                NaN\n",
       "4  This workbook contains modeled estimates of lo..."
      ]
     },
     "execution_count": 9,
     "metadata": {},
     "output_type": "execute_result"
    }
   ],
   "source": [
    "df.drop(columns=[\"Unnamed: 0\"], inplace=True, errors='ignore')\n",
    "df.head()"
   ]
  },
  {
   "cell_type": "code",
   "execution_count": 10,
   "id": "4a97cdf5",
   "metadata": {},
   "outputs": [
    {
     "data": {
      "text/html": [
       "<div>\n",
       "<style scoped>\n",
       "    .dataframe tbody tr th:only-of-type {\n",
       "        vertical-align: middle;\n",
       "    }\n",
       "\n",
       "    .dataframe tbody tr th {\n",
       "        vertical-align: top;\n",
       "    }\n",
       "\n",
       "    .dataframe thead th {\n",
       "        text-align: right;\n",
       "    }\n",
       "</style>\n",
       "<table border=\"1\" class=\"dataframe\">\n",
       "  <thead>\n",
       "    <tr style=\"text-align: right;\">\n",
       "      <th></th>\n",
       "      <th>words</th>\n",
       "    </tr>\n",
       "  </thead>\n",
       "  <tbody>\n",
       "    <tr>\n",
       "      <th>0</th>\n",
       "      <td>Long-run Marginal Emission Rates for Electricity</td>\n",
       "    </tr>\n",
       "    <tr>\n",
       "      <th>1</th>\n",
       "      <td>From the 2021 Cambium dataset</td>\n",
       "    </tr>\n",
       "    <tr>\n",
       "      <th>2</th>\n",
       "      <td>Released January 2022</td>\n",
       "    </tr>\n",
       "    <tr>\n",
       "      <th>3</th>\n",
       "      <td>NaN</td>\n",
       "    </tr>\n",
       "    <tr>\n",
       "      <th>4</th>\n",
       "      <td>This workbook contains modeled estimates of lo...</td>\n",
       "    </tr>\n",
       "  </tbody>\n",
       "</table>\n",
       "</div>"
      ],
      "text/plain": [
       "                                               words\n",
       "0   Long-run Marginal Emission Rates for Electricity\n",
       "1                     From the 2021 Cambium dataset \n",
       "2                              Released January 2022\n",
       "3                                                NaN\n",
       "4  This workbook contains modeled estimates of lo..."
      ]
     },
     "execution_count": 10,
     "metadata": {},
     "output_type": "execute_result"
    }
   ],
   "source": [
    "df.rename(columns={'Unnamed: 1': 'words'}, inplace=True)\n",
    "df.head()"
   ]
  },
  {
   "cell_type": "code",
   "execution_count": 11,
   "id": "35912928",
   "metadata": {},
   "outputs": [
    {
     "data": {
      "text/plain": [
       "'Long-run Marginal Emission Rates for Electricity'"
      ]
     },
     "execution_count": 11,
     "metadata": {},
     "output_type": "execute_result"
    }
   ],
   "source": [
    "df['words'][0]"
   ]
  },
  {
   "cell_type": "markdown",
   "id": "a0c011ae",
   "metadata": {},
   "source": [
    "#### Next steps\n",
    "- It seems like 'xl_file = pd.read_excel(f'{path}Cambium21_LRMER_states.xlsx', sheetname=None)' grabs all the file.\n",
    "- However, when I write the excel file to csv with 'xl_file.to_csv(\"cambiumfile.csv\", index = None, header=True)', only the first page is rewritten.\n",
    "- I need to write a loop to grab each sheet individually and put them in a list or something\n",
    "- Each page is gonna behave differently because when I looked at the data, some contained NL (), some numeric data, some both, and the tables set-up is different from a sheet to another"
   ]
  },
  {
   "cell_type": "code",
   "execution_count": 15,
   "id": "ea06554a",
   "metadata": {},
   "outputs": [],
   "source": [
    "# Creating a loop to get each sheet and add\n",
    "# them to an empty list then concatenate them all\n",
    "\n",
    "xlsx = pd.ExcelFile(f'{path}Cambium21_LRMER_states.xlsx')\n",
    "cambium_sheets = []\n",
    "for sheet in xlsx.sheet_names:\n",
    "    cambium_sheets.append(xlsx.parse(sheet))\n",
    "    cambium_unified = pd.concat(cambium_sheets)"
   ]
  },
  {
   "cell_type": "code",
   "execution_count": 16,
   "id": "e7ffb2cf",
   "metadata": {
    "scrolled": false
   },
   "outputs": [
    {
     "name": "stdout",
     "output_type": "stream",
     "text": [
      "    Unnamed: 0                                         Unnamed: 1 Unnamed: 2  \\\n",
      "0          NaN   Long-run Marginal Emission Rates for Electricity        NaN   \n",
      "1          NaN                     From the 2021 Cambium dataset         NaN   \n",
      "2          NaN                              Released January 2022        NaN   \n",
      "3          NaN                                                NaN        NaN   \n",
      "4          NaN  This workbook contains modeled estimates of lo...        NaN   \n",
      "..         ...                                                ...        ...   \n",
      "8          NaN  USER AGREES TO INDEMNIFY DOE/NREL/ALLIANCE AND...        NaN   \n",
      "9          NaN                                                NaN        NaN   \n",
      "10         NaN                            Funding Acknowledgement        NaN   \n",
      "11         NaN                                                NaN        NaN   \n",
      "12         NaN  This work was supported by the U.S. Department...        NaN   \n",
      "\n",
      "   Unnamed: 3 Unnamed: 4 Unnamed: 5 Unnamed: 6 Unnamed: 7 Unnamed: 8  \\\n",
      "0         NaN        NaN        NaN        NaN        NaN        NaN   \n",
      "1         NaN        NaN        NaN        NaN        NaN        NaN   \n",
      "2         NaN        NaN        NaN        NaN        NaN        NaN   \n",
      "3         NaN        NaN        NaN        NaN        NaN        NaN   \n",
      "4         NaN        NaN        NaN        NaN        NaN        NaN   \n",
      "..        ...        ...        ...        ...        ...        ...   \n",
      "8         NaN        NaN        NaN        NaN        NaN        NaN   \n",
      "9         NaN        NaN        NaN        NaN        NaN        NaN   \n",
      "10        NaN        NaN        NaN        NaN        NaN        NaN   \n",
      "11        NaN        NaN        NaN        NaN        NaN        NaN   \n",
      "12        NaN        NaN        NaN        NaN        NaN        NaN   \n",
      "\n",
      "   Unnamed: 9  ... Unnamed: 461 Unnamed: 462 Unnamed: 463 Unnamed: 464  \\\n",
      "0         NaN  ...          NaN          NaN          NaN          NaN   \n",
      "1         NaN  ...          NaN          NaN          NaN          NaN   \n",
      "2         NaN  ...          NaN          NaN          NaN          NaN   \n",
      "3         NaN  ...          NaN          NaN          NaN          NaN   \n",
      "4         NaN  ...          NaN          NaN          NaN          NaN   \n",
      "..        ...  ...          ...          ...          ...          ...   \n",
      "8         NaN  ...          NaN          NaN          NaN          NaN   \n",
      "9         NaN  ...          NaN          NaN          NaN          NaN   \n",
      "10        NaN  ...          NaN          NaN          NaN          NaN   \n",
      "11        NaN  ...          NaN          NaN          NaN          NaN   \n",
      "12        NaN  ...          NaN          NaN          NaN          NaN   \n",
      "\n",
      "   Unnamed: 465 Unnamed: 466 Unnamed: 467 State Timezone Emission list  \n",
      "0           NaN          NaN          NaN   NaN      NaN           NaN  \n",
      "1           NaN          NaN          NaN   NaN      NaN           NaN  \n",
      "2           NaN          NaN          NaN   NaN      NaN           NaN  \n",
      "3           NaN          NaN          NaN   NaN      NaN           NaN  \n",
      "4           NaN          NaN          NaN   NaN      NaN           NaN  \n",
      "..          ...          ...          ...   ...      ...           ...  \n",
      "8           NaN          NaN          NaN   NaN      NaN           NaN  \n",
      "9           NaN          NaN          NaN   NaN      NaN           NaN  \n",
      "10          NaN          NaN          NaN   NaN      NaN           NaN  \n",
      "11          NaN          NaN          NaN   NaN      NaN           NaN  \n",
      "12          NaN          NaN          NaN   NaN      NaN           NaN  \n",
      "\n",
      "[24342 rows x 471 columns]\n"
     ]
    }
   ],
   "source": [
    "print(PC)"
   ]
  },
  {
   "cell_type": "markdown",
   "id": "db7bca21",
   "metadata": {},
   "source": [
    "### Observation\n",
    "**This creates a unique file with all the content of the excel file in there.\n",
    "It is humongous and not practical the way it is right now\n",
    "It seems like the code in the cell 21 below works better at providing isolated sheets**"
   ]
  },
  {
   "cell_type": "code",
   "execution_count": 18,
   "id": "9aa0b83f",
   "metadata": {
    "scrolled": true
   },
   "outputs": [
    {
     "name": "stdout",
     "output_type": "stream",
     "text": [
      "****Result Sheet 6****\n",
      "  State Timezone\n",
      "0    IL       CT\n",
      "1    IN       ET\n",
      "2    MI       ET\n",
      "3    OH       ET\n",
      "4    WI       CT\n"
     ]
    }
   ],
   "source": [
    "with pd.ExcelFile(f'{path}Cambium21_LRMER_states.xlsx') as xlsx:\n",
    "#     df1 = pd.read_excel(xlsx, sheet_name = 0)\n",
    "#     df2 = pd.read_excel(xlsx, sheet_name = 1)\n",
    "#     df3 = pd.read_excel(xlsx, sheet_name = 2)\n",
    "#     df4 = pd.read_excel(xlsx, sheet_name = 3)\n",
    "#     df5 = pd.read_excel(xlsx, sheet_name = 4)\n",
    "#     df6 = pd.read_excel(xlsx, sheet_name = 5)\n",
    "    df7 = pd.read_excel(xlsx, sheet_name = 6)\n",
    "#     df8 = pd.read_excel(xlsx, sheet_name = 7)\n",
    "#     df9 = pd.read_excel(xlsx, sheet_name = 8)\n",
    "\n",
    "\n",
    "# print(\"****Result Sheet 1****\")\n",
    "# print (df1[0:10][:2])\n",
    "# print(\"\")\n",
    "# print(\"***Result Sheet 2****\")\n",
    "# print (df2[0:21][:25])\n",
    "print(\"****Result Sheet 6****\")\n",
    "print (df7[:5])"
   ]
  },
  {
   "cell_type": "code",
   "execution_count": 19,
   "id": "0fdad47c",
   "metadata": {},
   "outputs": [
    {
     "data": {
      "text/plain": [
       "pandas.core.frame.DataFrame"
      ]
     },
     "execution_count": 19,
     "metadata": {},
     "output_type": "execute_result"
    }
   ],
   "source": [
    "type(df7)"
   ]
  },
  {
   "cell_type": "code",
   "execution_count": 20,
   "id": "d8ab25f1",
   "metadata": {
    "scrolled": true
   },
   "outputs": [
    {
     "name": "stdout",
     "output_type": "stream",
     "text": [
      "<class 'pandas.core.frame.DataFrame'>\n",
      "RangeIndex: 48 entries, 0 to 47\n",
      "Data columns (total 2 columns):\n",
      " #   Column    Non-Null Count  Dtype \n",
      "---  ------    --------------  ----- \n",
      " 0   State     48 non-null     object\n",
      " 1   Timezone  48 non-null     object\n",
      "dtypes: object(2)\n",
      "memory usage: 896.0+ bytes\n"
     ]
    }
   ],
   "source": [
    "state_timezone = df7\n",
    "state_timezone.info()"
   ]
  },
  {
   "cell_type": "code",
   "execution_count": 21,
   "id": "8fb76ecc",
   "metadata": {},
   "outputs": [],
   "source": [
    "state_timezone.to_csv('state_timezone.csv', index=False)"
   ]
  },
  {
   "cell_type": "code",
   "execution_count": 22,
   "id": "d981b364",
   "metadata": {},
   "outputs": [
    {
     "data": {
      "text/html": [
       "<div>\n",
       "<style scoped>\n",
       "    .dataframe tbody tr th:only-of-type {\n",
       "        vertical-align: middle;\n",
       "    }\n",
       "\n",
       "    .dataframe tbody tr th {\n",
       "        vertical-align: top;\n",
       "    }\n",
       "\n",
       "    .dataframe thead th {\n",
       "        text-align: right;\n",
       "    }\n",
       "</style>\n",
       "<table border=\"1\" class=\"dataframe\">\n",
       "  <thead>\n",
       "    <tr style=\"text-align: right;\">\n",
       "      <th></th>\n",
       "      <th>State</th>\n",
       "      <th>Timezone</th>\n",
       "    </tr>\n",
       "  </thead>\n",
       "  <tbody>\n",
       "    <tr>\n",
       "      <th>0</th>\n",
       "      <td>IL</td>\n",
       "      <td>CT</td>\n",
       "    </tr>\n",
       "    <tr>\n",
       "      <th>1</th>\n",
       "      <td>IN</td>\n",
       "      <td>ET</td>\n",
       "    </tr>\n",
       "    <tr>\n",
       "      <th>2</th>\n",
       "      <td>MI</td>\n",
       "      <td>ET</td>\n",
       "    </tr>\n",
       "    <tr>\n",
       "      <th>3</th>\n",
       "      <td>OH</td>\n",
       "      <td>ET</td>\n",
       "    </tr>\n",
       "    <tr>\n",
       "      <th>4</th>\n",
       "      <td>WI</td>\n",
       "      <td>CT</td>\n",
       "    </tr>\n",
       "  </tbody>\n",
       "</table>\n",
       "</div>"
      ],
      "text/plain": [
       "  State Timezone\n",
       "0    IL       CT\n",
       "1    IN       ET\n",
       "2    MI       ET\n",
       "3    OH       ET\n",
       "4    WI       CT"
      ]
     },
     "execution_count": 22,
     "metadata": {},
     "output_type": "execute_result"
    }
   ],
   "source": [
    "state_timezone = pd.read_csv('state_timezone.csv')\n",
    "state_timezone.head()"
   ]
  },
  {
   "cell_type": "code",
   "execution_count": 23,
   "id": "6be20a69",
   "metadata": {},
   "outputs": [
    {
     "name": "stdout",
     "output_type": "stream",
     "text": [
      "<class 'pandas.core.frame.DataFrame'>\n",
      "RangeIndex: 48 entries, 0 to 47\n",
      "Data columns (total 2 columns):\n",
      " #   Column    Non-Null Count  Dtype \n",
      "---  ------    --------------  ----- \n",
      " 0   State     48 non-null     object\n",
      " 1   Timezone  48 non-null     object\n",
      "dtypes: object(2)\n",
      "memory usage: 896.0+ bytes\n"
     ]
    }
   ],
   "source": [
    "state_timezone.info()"
   ]
  }
 ],
 "metadata": {
  "kernelspec": {
   "display_name": "Python 3 (ipykernel)",
   "language": "python",
   "name": "python3"
  },
  "language_info": {
   "codemirror_mode": {
    "name": "ipython",
    "version": 3
   },
   "file_extension": ".py",
   "mimetype": "text/x-python",
   "name": "python",
   "nbconvert_exporter": "python",
   "pygments_lexer": "ipython3",
   "version": "3.9.7"
  }
 },
 "nbformat": 4,
 "nbformat_minor": 5
}
